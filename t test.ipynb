{
 "cells": [
  {
   "cell_type": "code",
   "execution_count": 2,
   "id": "3ff15d9e",
   "metadata": {},
   "outputs": [],
   "source": [
    "import pandas as pd\n",
    "import numpy as np \n",
    "import scipy.stats as stats"
   ]
  },
  {
   "cell_type": "markdown",
   "id": "4d7a2210",
   "metadata": {},
   "source": [
    "## One sample t test \n",
    "It tells us wheather means of the sample and the population are different "
   ]
  },
  {
   "cell_type": "markdown",
   "id": "3a793f57",
   "metadata": {},
   "source": [
    ". "
   ]
  },
  {
   "cell_type": "markdown",
   "id": "c9b0d51e",
   "metadata": {},
   "source": [
    "This test will tell us wheather means of sample and population are different"
   ]
  },
  {
   "cell_type": "markdown",
   "id": "98377449",
   "metadata": {},
   "source": [
    "Genrating the population data "
   ]
  },
  {
   "cell_type": "code",
   "execution_count": 50,
   "id": "b3a29540",
   "metadata": {},
   "outputs": [],
   "source": [
    "weight_population=list(np.arange(10,100,2))"
   ]
  },
  {
   "cell_type": "code",
   "execution_count": 51,
   "id": "e9e462a5",
   "metadata": {},
   "outputs": [
    {
     "data": {
      "text/plain": [
       "54.0"
      ]
     },
     "execution_count": 51,
     "metadata": {},
     "output_type": "execute_result"
    }
   ],
   "source": [
    "weight_mean=np.mean(weight_population)\n",
    "weight_mean"
   ]
  },
  {
   "cell_type": "markdown",
   "id": "5afce983",
   "metadata": {},
   "source": [
    "To check the one sample t test(2 tail),we have to first consider the null and alternate hypothesis \n",
    "In this situation  the null hypothesis is that there is not difference between the weight_population mean and weight_sample mean and alternate hypothesis state that there is difference between weight_population mean and weight_sample_mean\n"
   ]
  },
  {
   "cell_type": "markdown",
   "id": "084d0f29",
   "metadata": {},
   "source": [
    "Second step \n",
    "we have to determine the siginificance value that is level of significance.\n",
    "<br>\n",
    "In this question we determine our level of significance 0.05 from both  ends from both ends"
   ]
  },
  {
   "cell_type": "code",
   "execution_count": 36,
   "id": "2d8e49e7",
   "metadata": {},
   "outputs": [],
   "source": [
    "sample_size=30       \n",
    "age_sample=np.random.choice(weight,sample_size)"
   ]
  },
  {
   "cell_type": "markdown",
   "id": "e568c776",
   "metadata": {},
   "source": [
    "We assume that our sample data follow normal distribution"
   ]
  },
  {
   "cell_type": "code",
   "execution_count": 37,
   "id": "9bd940a5",
   "metadata": {},
   "outputs": [
    {
     "data": {
      "text/plain": [
       "array([38, 82, 52, 48, 28, 70, 18, 56, 52, 54, 24, 58, 50, 34, 88, 36, 50,\n",
       "       74, 34, 42, 40, 30, 88, 26, 58, 12, 68, 40, 84, 94])"
      ]
     },
     "execution_count": 37,
     "metadata": {},
     "output_type": "execute_result"
    }
   ],
   "source": [
    "age_sample"
   ]
  },
  {
   "cell_type": "markdown",
   "id": "adf484a8",
   "metadata": {},
   "source": [
    "t test equals to sample mean minus hypothesized population mean and divided by standard error\n",
    "<br>\n",
    "<br>\n",
    "Standard error equals to standard deviation of sample data divided by square root of sample size of data \n",
    "<br>\n",
    "<br>\n",
    "In t test we don't know the standard deviation of population data and population mean as we know in z test "
   ]
  },
  {
   "cell_type": "code",
   "execution_count": 52,
   "id": "8998d5fc",
   "metadata": {},
   "outputs": [],
   "source": [
    "ttest,p_value=stats.ttest_1samp(age_sample,54)"
   ]
  },
  {
   "cell_type": "markdown",
   "id": "cae8f48c",
   "metadata": {},
   "source": [
    "p_value is the probability that your sample supports the null hypothesis\n",
    "<br>\n",
    "Further p_value itself is meaningless,its the significance value that put it into context!"
   ]
  },
  {
   "cell_type": "code",
   "execution_count": 53,
   "id": "6ca581c5",
   "metadata": {},
   "outputs": [
    {
     "data": {
      "text/plain": [
       "0.4537769275253549"
      ]
     },
     "execution_count": 53,
     "metadata": {},
     "output_type": "execute_result"
    }
   ],
   "source": [
    "p_value"
   ]
  },
  {
   "cell_type": "code",
   "execution_count": 54,
   "id": "4c50bb05",
   "metadata": {},
   "outputs": [
    {
     "name": "stdout",
     "output_type": "stream",
     "text": [
      "we are accepting the null hypothesis\n"
     ]
    }
   ],
   "source": [
    "if p_value <0.05:\n",
    "    print('we are rejecting the null hypothesis')\n",
    "else:\n",
    "    print('we are accepting the null hypothesis')"
   ]
  }
 ],
 "metadata": {
  "kernelspec": {
   "display_name": "Python 3 (ipykernel)",
   "language": "python",
   "name": "python3"
  },
  "language_info": {
   "codemirror_mode": {
    "name": "ipython",
    "version": 3
   },
   "file_extension": ".py",
   "mimetype": "text/x-python",
   "name": "python",
   "nbconvert_exporter": "python",
   "pygments_lexer": "ipython3",
   "version": "3.9.13"
  }
 },
 "nbformat": 4,
 "nbformat_minor": 5
}
